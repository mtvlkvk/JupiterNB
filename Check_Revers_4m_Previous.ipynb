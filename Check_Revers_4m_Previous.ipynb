{
 "cells": [
  {
   "cell_type": "code",
   "execution_count": 52,
   "metadata": {},
   "outputs": [],
   "source": [
    "# 1. \"Проверка гипотезы: Разворот зависит от дельт предыдущих курсов (Open_тек - Open_i) предыд. volumes. \n",
    "# Вместо Open можно запулить другие разницы между Open/Close. Вопрос другой. Как узнать разворот?\n",
    "# 2. А если опредить разворот так? \n",
    "# P1 = берем N значений (например, Open) до текущей даты \n",
    "# F1 = берем N значений после текущей даты\n",
    "# Выбираем \"точность\" X. Где-нибудь 80-90%  \n",
    "# Считаем что разворот вниз, если а) Pтек > X% Pi и б)Pтек < X% Fi\n",
    "# Считаем что разворот вверх, если а) Pтек < X% Pi и б)Pтек > X% Fi\n",
    "# Если получили разворот вверх, то заполняем столбец 1\n",
    "# Если получили разворот вниз, то заполняем столбец -1  \n",
    "# В противном случае - 0 "
   ]
  },
  {
   "cell_type": "code",
   "execution_count": 55,
   "metadata": {},
   "outputs": [],
   "source": [
    "from get_data import get_polo_data\n",
    "import math\n",
    "import pandas as pd \n",
    "import matplotlib.pyplot as plt\n",
    "import seaborn as sns\n",
    "\n",
    "from sklearn import linear_model\n",
    "from sklearn.cluster import KMeans\n",
    "from sklearn.model_selection import cross_validate\n",
    "from sklearn.model_selection import cross_val_score\n",
    "from sklearn import model_selection\n",
    "from sklearn import metrics \n",
    "from sklearn import svm\n",
    "from pandas import DataFrame\n",
    "from sklearn.neighbors import KNeighborsClassifier\n",
    "from sklearn.ensemble import RandomForestClassifier\n",
    "from sklearn.linear_model import LogisticRegression"
   ]
  },
  {
   "cell_type": "code",
   "execution_count": 56,
   "metadata": {},
   "outputs": [
    {
     "name": "stderr",
     "output_type": "stream",
     "text": [
      "DEBUG:poloniex:Getting 2019-11-27 00:10:00 - 2019-11-27 00:19:43 USDT_BTC candles from Poloniex...\n",
      "DEBUG:poloniex:Updating USDT_BTC database with 2 entrys...\n",
      "100%|███████████████████████████████████████████| 2/2 [00:00<00:00, 399.99it/s]\n",
      "DEBUG:poloniex:Getting USDT_BTC chart data from db\n"
     ]
    },
    {
     "name": "stdout",
     "output_type": "stream",
     "text": [
      "5760\n",
      "0\n"
     ]
    }
   ],
   "source": [
    "# Беру статистику за 2000 дней \n",
    "sd = get_polo_data(pair=\"USDT_BTC\", frame=(20)*60*60*24,zoom='5MIN')\n",
    "print(len(sd))\n",
    "print(len(sd)-len(sd.dropna()))"
   ]
  },
  {
   "cell_type": "code",
   "execution_count": 57,
   "metadata": {},
   "outputs": [
    {
     "data": {
      "text/html": [
       "<div>\n",
       "<style scoped>\n",
       "    .dataframe tbody tr th:only-of-type {\n",
       "        vertical-align: middle;\n",
       "    }\n",
       "\n",
       "    .dataframe tbody tr th {\n",
       "        vertical-align: top;\n",
       "    }\n",
       "\n",
       "    .dataframe thead th {\n",
       "        text-align: right;\n",
       "    }\n",
       "</style>\n",
       "<table border=\"1\" class=\"dataframe\">\n",
       "  <thead>\n",
       "    <tr style=\"text-align: right;\">\n",
       "      <th></th>\n",
       "      <th>open</th>\n",
       "      <th>high</th>\n",
       "      <th>low</th>\n",
       "      <th>close</th>\n",
       "      <th>volume</th>\n",
       "      <th>weightedAverage</th>\n",
       "      <th>Lag1</th>\n",
       "      <th>Vol1</th>\n",
       "      <th>Lag2</th>\n",
       "      <th>Vol2</th>\n",
       "      <th>Lag3</th>\n",
       "      <th>Vol3</th>\n",
       "    </tr>\n",
       "    <tr>\n",
       "      <th>date</th>\n",
       "      <th></th>\n",
       "      <th></th>\n",
       "      <th></th>\n",
       "      <th></th>\n",
       "      <th></th>\n",
       "      <th></th>\n",
       "      <th></th>\n",
       "      <th></th>\n",
       "      <th></th>\n",
       "      <th></th>\n",
       "      <th></th>\n",
       "      <th></th>\n",
       "    </tr>\n",
       "  </thead>\n",
       "  <tbody>\n",
       "    <tr>\n",
       "      <td>2019-11-07 00:35:00</td>\n",
       "      <td>9342.500003</td>\n",
       "      <td>9350.125200</td>\n",
       "      <td>9339.200000</td>\n",
       "      <td>9349.725200</td>\n",
       "      <td>31129.047192</td>\n",
       "      <td>9343.629383</td>\n",
       "      <td>16.945410</td>\n",
       "      <td>6455.379252</td>\n",
       "      <td>19.583977</td>\n",
       "      <td>10055.223682</td>\n",
       "      <td>16.600000</td>\n",
       "      <td>1273.224227</td>\n",
       "    </tr>\n",
       "    <tr>\n",
       "      <td>2019-11-07 00:40:00</td>\n",
       "      <td>9346.268100</td>\n",
       "      <td>9352.100000</td>\n",
       "      <td>9345.000000</td>\n",
       "      <td>9352.100000</td>\n",
       "      <td>29920.334358</td>\n",
       "      <td>9345.941337</td>\n",
       "      <td>3.768097</td>\n",
       "      <td>31129.047192</td>\n",
       "      <td>20.713507</td>\n",
       "      <td>6455.379252</td>\n",
       "      <td>23.352074</td>\n",
       "      <td>10055.223682</td>\n",
       "    </tr>\n",
       "    <tr>\n",
       "      <td>2019-11-07 00:45:00</td>\n",
       "      <td>9341.000001</td>\n",
       "      <td>9351.000000</td>\n",
       "      <td>9341.000001</td>\n",
       "      <td>9350.100000</td>\n",
       "      <td>549.498028</td>\n",
       "      <td>9350.980532</td>\n",
       "      <td>-5.268099</td>\n",
       "      <td>29920.334358</td>\n",
       "      <td>-1.500002</td>\n",
       "      <td>31129.047192</td>\n",
       "      <td>15.445408</td>\n",
       "      <td>6455.379252</td>\n",
       "    </tr>\n",
       "    <tr>\n",
       "      <td>2019-11-07 00:50:00</td>\n",
       "      <td>9346.784538</td>\n",
       "      <td>9350.700000</td>\n",
       "      <td>9342.000002</td>\n",
       "      <td>9346.466260</td>\n",
       "      <td>22911.514601</td>\n",
       "      <td>9347.868293</td>\n",
       "      <td>5.784537</td>\n",
       "      <td>549.498028</td>\n",
       "      <td>0.516438</td>\n",
       "      <td>29920.334358</td>\n",
       "      <td>4.284535</td>\n",
       "      <td>31129.047192</td>\n",
       "    </tr>\n",
       "    <tr>\n",
       "      <td>2019-11-07 00:55:00</td>\n",
       "      <td>9346.466260</td>\n",
       "      <td>9346.466260</td>\n",
       "      <td>9341.000002</td>\n",
       "      <td>9341.000002</td>\n",
       "      <td>7751.992959</td>\n",
       "      <td>9345.601688</td>\n",
       "      <td>-0.318278</td>\n",
       "      <td>22911.514601</td>\n",
       "      <td>5.466259</td>\n",
       "      <td>549.498028</td>\n",
       "      <td>0.198160</td>\n",
       "      <td>29920.334358</td>\n",
       "    </tr>\n",
       "    <tr>\n",
       "      <td>...</td>\n",
       "      <td>...</td>\n",
       "      <td>...</td>\n",
       "      <td>...</td>\n",
       "      <td>...</td>\n",
       "      <td>...</td>\n",
       "      <td>...</td>\n",
       "      <td>...</td>\n",
       "      <td>...</td>\n",
       "      <td>...</td>\n",
       "      <td>...</td>\n",
       "      <td>...</td>\n",
       "      <td>...</td>\n",
       "    </tr>\n",
       "    <tr>\n",
       "      <td>2019-11-26 23:55:00</td>\n",
       "      <td>7157.230001</td>\n",
       "      <td>7158.542966</td>\n",
       "      <td>7143.849450</td>\n",
       "      <td>7154.900000</td>\n",
       "      <td>75559.331580</td>\n",
       "      <td>7151.861108</td>\n",
       "      <td>7.171981</td>\n",
       "      <td>59196.831684</td>\n",
       "      <td>-6.969999</td>\n",
       "      <td>44947.320875</td>\n",
       "      <td>4.120001</td>\n",
       "      <td>42622.760352</td>\n",
       "    </tr>\n",
       "    <tr>\n",
       "      <td>2019-11-27 00:00:00</td>\n",
       "      <td>7148.273924</td>\n",
       "      <td>7155.756730</td>\n",
       "      <td>7140.158020</td>\n",
       "      <td>7155.756730</td>\n",
       "      <td>48853.732403</td>\n",
       "      <td>7147.836582</td>\n",
       "      <td>-8.956077</td>\n",
       "      <td>75559.331580</td>\n",
       "      <td>-1.784096</td>\n",
       "      <td>59196.831684</td>\n",
       "      <td>-15.926077</td>\n",
       "      <td>44947.320875</td>\n",
       "    </tr>\n",
       "    <tr>\n",
       "      <td>2019-11-27 00:05:00</td>\n",
       "      <td>7155.010000</td>\n",
       "      <td>7161.570665</td>\n",
       "      <td>7141.848978</td>\n",
       "      <td>7160.611899</td>\n",
       "      <td>89897.669045</td>\n",
       "      <td>7153.107151</td>\n",
       "      <td>6.736077</td>\n",
       "      <td>48853.732403</td>\n",
       "      <td>-2.220001</td>\n",
       "      <td>75559.331580</td>\n",
       "      <td>4.951980</td>\n",
       "      <td>59196.831684</td>\n",
       "    </tr>\n",
       "    <tr>\n",
       "      <td>2019-11-27 00:10:00</td>\n",
       "      <td>7160.211898</td>\n",
       "      <td>7160.211898</td>\n",
       "      <td>7131.744700</td>\n",
       "      <td>7156.441001</td>\n",
       "      <td>119155.612216</td>\n",
       "      <td>7144.826034</td>\n",
       "      <td>5.201898</td>\n",
       "      <td>89897.669045</td>\n",
       "      <td>11.937974</td>\n",
       "      <td>48853.732403</td>\n",
       "      <td>2.981897</td>\n",
       "      <td>75559.331580</td>\n",
       "    </tr>\n",
       "    <tr>\n",
       "      <td>2019-11-27 00:15:00</td>\n",
       "      <td>7139.249901</td>\n",
       "      <td>7144.763712</td>\n",
       "      <td>7137.949900</td>\n",
       "      <td>7144.763712</td>\n",
       "      <td>27119.813190</td>\n",
       "      <td>7139.308630</td>\n",
       "      <td>-20.961997</td>\n",
       "      <td>119155.612216</td>\n",
       "      <td>-15.760099</td>\n",
       "      <td>89897.669045</td>\n",
       "      <td>-9.024023</td>\n",
       "      <td>48853.732403</td>\n",
       "    </tr>\n",
       "  </tbody>\n",
       "</table>\n",
       "<p>5757 rows × 12 columns</p>\n",
       "</div>"
      ],
      "text/plain": [
       "                            open         high          low        close  \\\n",
       "date                                                                      \n",
       "2019-11-07 00:35:00  9342.500003  9350.125200  9339.200000  9349.725200   \n",
       "2019-11-07 00:40:00  9346.268100  9352.100000  9345.000000  9352.100000   \n",
       "2019-11-07 00:45:00  9341.000001  9351.000000  9341.000001  9350.100000   \n",
       "2019-11-07 00:50:00  9346.784538  9350.700000  9342.000002  9346.466260   \n",
       "2019-11-07 00:55:00  9346.466260  9346.466260  9341.000002  9341.000002   \n",
       "...                          ...          ...          ...          ...   \n",
       "2019-11-26 23:55:00  7157.230001  7158.542966  7143.849450  7154.900000   \n",
       "2019-11-27 00:00:00  7148.273924  7155.756730  7140.158020  7155.756730   \n",
       "2019-11-27 00:05:00  7155.010000  7161.570665  7141.848978  7160.611899   \n",
       "2019-11-27 00:10:00  7160.211898  7160.211898  7131.744700  7156.441001   \n",
       "2019-11-27 00:15:00  7139.249901  7144.763712  7137.949900  7144.763712   \n",
       "\n",
       "                            volume  weightedAverage       Lag1           Vol1  \\\n",
       "date                                                                            \n",
       "2019-11-07 00:35:00   31129.047192      9343.629383  16.945410    6455.379252   \n",
       "2019-11-07 00:40:00   29920.334358      9345.941337   3.768097   31129.047192   \n",
       "2019-11-07 00:45:00     549.498028      9350.980532  -5.268099   29920.334358   \n",
       "2019-11-07 00:50:00   22911.514601      9347.868293   5.784537     549.498028   \n",
       "2019-11-07 00:55:00    7751.992959      9345.601688  -0.318278   22911.514601   \n",
       "...                            ...              ...        ...            ...   \n",
       "2019-11-26 23:55:00   75559.331580      7151.861108   7.171981   59196.831684   \n",
       "2019-11-27 00:00:00   48853.732403      7147.836582  -8.956077   75559.331580   \n",
       "2019-11-27 00:05:00   89897.669045      7153.107151   6.736077   48853.732403   \n",
       "2019-11-27 00:10:00  119155.612216      7144.826034   5.201898   89897.669045   \n",
       "2019-11-27 00:15:00   27119.813190      7139.308630 -20.961997  119155.612216   \n",
       "\n",
       "                          Lag2          Vol2       Lag3          Vol3  \n",
       "date                                                                   \n",
       "2019-11-07 00:35:00  19.583977  10055.223682  16.600000   1273.224227  \n",
       "2019-11-07 00:40:00  20.713507   6455.379252  23.352074  10055.223682  \n",
       "2019-11-07 00:45:00  -1.500002  31129.047192  15.445408   6455.379252  \n",
       "2019-11-07 00:50:00   0.516438  29920.334358   4.284535  31129.047192  \n",
       "2019-11-07 00:55:00   5.466259    549.498028   0.198160  29920.334358  \n",
       "...                        ...           ...        ...           ...  \n",
       "2019-11-26 23:55:00  -6.969999  44947.320875   4.120001  42622.760352  \n",
       "2019-11-27 00:00:00  -1.784096  59196.831684 -15.926077  44947.320875  \n",
       "2019-11-27 00:05:00  -2.220001  75559.331580   4.951980  59196.831684  \n",
       "2019-11-27 00:10:00  11.937974  48853.732403   2.981897  75559.331580  \n",
       "2019-11-27 00:15:00 -15.760099  89897.669045  -9.024023  48853.732403  \n",
       "\n",
       "[5757 rows x 12 columns]"
      ]
     },
     "execution_count": 57,
     "metadata": {},
     "output_type": "execute_result"
    }
   ],
   "source": [
    "lags=3\n",
    "for i in range(0, lags):\n",
    "    sd[\"Lag%s\" % str(i+1)] = sd[\"open\"]-sd[\"open\"].shift(i+1)\n",
    "    sd[\"Vol%s\" % str(i+1)] = sd[\"volume\"].shift(i+1)\n",
    "sd = sd.dropna()\n",
    "sd"
   ]
  },
  {
   "cell_type": "code",
   "execution_count": 58,
   "metadata": {},
   "outputs": [],
   "source": [
    "# Заполняю столбец. Если курс вырос, то 1. Если нет, то '-1' \n",
    "sd[\"delta\"]=sd[\"close\"]-sd[\"open\"]\n",
    "sd[\"isgrowing\"]=sd['delta'].map(lambda delta: math.copysign(1, delta ))"
   ]
  },
  {
   "cell_type": "code",
   "execution_count": 59,
   "metadata": {},
   "outputs": [],
   "source": [
    "# # Это просто построил график. Посмотреть на распределение   \n",
    "# (sd['close']-sd['open']).hist(bins=10)"
   ]
  },
  {
   "cell_type": "code",
   "execution_count": 61,
   "metadata": {},
   "outputs": [],
   "source": [
    "train=sd[['Vol1','Vol2','Vol3','Lag1','Lag2','Lag3',]]\n",
    "target=sd['isgrowing']\n",
    "train_parm, test_parm, train_indic, test_indic = model_selection.train_test_split(\n",
    "    train, target, test_size = 0.3, random_state = 0)"
   ]
  },
  {
   "cell_type": "code",
   "execution_count": 62,
   "metadata": {},
   "outputs": [],
   "source": [
    "model_rfc = RandomForestClassifier(n_estimators = 70) #в параметре передаем кол-во деревьев\n",
    "model_knc = KNeighborsClassifier(n_neighbors = 18) #в параметре передаем кол-во соседей\n",
    "model_lr = LogisticRegression(penalty='l1', tol=0.01) \n",
    "model_svc = svm.SVC()"
   ]
  },
  {
   "cell_type": "code",
   "execution_count": 63,
   "metadata": {},
   "outputs": [],
   "source": [
    "import warnings\n",
    "warnings.filterwarnings(\"ignore\", category=FutureWarning)\n",
    "\n",
    "kfold=5\n",
    "itog_val = {}\n",
    "scores = cross_val_score(model_rfc, train, target, cv = kfold)\n",
    "itog_val['RandomForestClassifier'] = scores.mean()\n",
    "scores = cross_val_score(model_knc, train, target, cv = kfold)\n",
    "itog_val['KNeighborsClassifier'] = scores.mean()\n",
    "scores = cross_val_score(model_lr, train, target, cv = kfold)\n",
    "itog_val['LogisticRegression'] = scores.mean()\n",
    "scores = cross_val_score(model_svc, train, target, cv = kfold)\n",
    "itog_val['SVC'] = scores.mean()"
   ]
  },
  {
   "cell_type": "code",
   "execution_count": 64,
   "metadata": {},
   "outputs": [
    {
     "name": "stdout",
     "output_type": "stream",
     "text": [
      "0.5181480261893764\n",
      "0.4999147767731668\n",
      "0.5292666808830966\n",
      "0.50303977912792\n"
     ]
    },
    {
     "data": {
      "text/plain": [
       "<matplotlib.axes._subplots.AxesSubplot at 0xefaed08>"
      ]
     },
     "execution_count": 64,
     "metadata": {},
     "output_type": "execute_result"
    },
    {
     "data": {
      "image/png": "[encoded data removed]",
      "text/plain": [
       "<Figure size 432x288 with 1 Axes>"
      ]
     },
     "metadata": {
      "needs_background": "light"
     },
     "output_type": "display_data"
    }
   ],
   "source": [
    "for i in itog_val: \n",
    "    print (itog_val[i])\n",
    "DataFrame.from_dict(data = itog_val, orient='index').plot(kind='bar', legend=False)"
   ]
  },
  {
   "cell_type": "code",
   "execution_count": 197,
   "metadata": {},
   "outputs": [
    {
     "name": "stdout",
     "output_type": "stream",
     "text": [
      "Строк изначально 498\n",
      "Убрал день 249\n"
     ]
    }
   ],
   "source": [
    "# УЖЕ ЛУЧШЕ. А ЧТО ЕСЛИ УБРАТЬ ВОСКРЕСЕНЬЕ. \n",
    "print (\"Строк изначально\",sd['open'].count())\n",
    "sd = sd.query(\"WeekDayNmb  in [5]\")\n",
    "print (\"Убрал день\",sd['open'].count())\n",
    "train=sd[['WeekDayNmb','empty']]\n",
    "target=sd['isgrowing']\n",
    "train_parm, test_parm, train_indic, test_indic = model_selection.train_test_split(\n",
    "    train, target, test_size = 0.3, random_state = 0)"
   ]
  },
  {
   "cell_type": "code",
   "execution_count": 198,
   "metadata": {},
   "outputs": [],
   "source": [
    "model_rfc = RandomForestClassifier(n_estimators = 70) #в параметре передаем кол-во деревьев\n",
    "model_knc = KNeighborsClassifier(n_neighbors = 18) #в параметре передаем кол-во соседей\n",
    "model_lr = LogisticRegression(penalty='l1', tol=0.01) \n",
    "model_svc = svm.SVC()"
   ]
  },
  {
   "cell_type": "code",
   "execution_count": 199,
   "metadata": {},
   "outputs": [],
   "source": [
    "import warnings\n",
    "warnings.filterwarnings(\"ignore\", category=FutureWarning)\n",
    "\n",
    "kfold=5\n",
    "itog_val = {}\n",
    "scores = cross_val_score(model_rfc, train, target, cv = kfold)\n",
    "itog_val['RandomForestClassifier'] = scores.mean()\n",
    "scores = cross_val_score(model_knc, train, target, cv = kfold)\n",
    "itog_val['KNeighborsClassifier'] = scores.mean()\n",
    "scores = cross_val_score(model_lr, train, target, cv = kfold)\n",
    "itog_val['LogisticRegression'] = scores.mean()\n",
    "scores = cross_val_score(model_svc, train, target, cv = kfold)\n",
    "itog_val['SVC'] = scores.mean()\n"
   ]
  },
  {
   "cell_type": "code",
   "execution_count": 204,
   "metadata": {},
   "outputs": [
    {
     "name": "stdout",
     "output_type": "stream",
     "text": [
      "0.6024489795918366\n",
      "0.39755102040816326\n",
      "0.6024489795918366\n",
      "0.6024489795918366\n"
     ]
    },
    {
     "data": {
      "text/plain": [
       "<matplotlib.axes._subplots.AxesSubplot at 0x10887a48>"
      ]
     },
     "execution_count": 204,
     "metadata": {},
     "output_type": "execute_result"
    },
    {
     "data": {
      "image/png": "[encoded data removed]",
      "text/plain": [
       "<Figure size 432x288 with 1 Axes>"
      ]
     },
     "metadata": {},
     "output_type": "display_data"
    }
   ],
   "source": [
    "for i in itog_val: \n",
    "    print (itog_val[i])\n",
    "DataFrame.from_dict(data = itog_val, orient='index').plot(kind='bar', legend=False)"
   ]
  },
  {
   "cell_type": "code",
   "execution_count": null,
   "metadata": {},
   "outputs": [],
   "source": [
    "# Получается что в субботу с вероятностью 0,6 курс будет падать. Как-то так "
   ]
  },
  {
   "cell_type": "code",
   "execution_count": 203,
   "metadata": {},
   "outputs": [],
   "source": [
    "# model_rfc.fit(train_parm, train_indic)\n",
    "# model_lr.fit(train_parm, train_indic) \n",
    "# model_svc.fit(train_parm, train_indic)\n",
    "# model_knc.fit(train_parm, train_indic)\n",
    "\n",
    "\n",
    "# y_predicted = model_rfc.predict(test_parm)\n",
    "# print(metrics.classification_report(test_indic, y_predicted))\n",
    "# y_predicted = model_lr.predict(test_parm)\n",
    "# y_predicted = model_svc.predict(test_parm)\n",
    "# y_predicted = model_knc.predict(test_parm)\n"
   ]
  },
  {
   "cell_type": "code",
   "execution_count": null,
   "metadata": {},
   "outputs": [],
   "source": []
  },
  {
   "cell_type": "code",
   "execution_count": 202,
   "metadata": {},
   "outputs": [],
   "source": [
    "# model_rfc.score(test_parm, test_indic)\n",
    "# # print(metrics.classification_report(test_indic, y_predicted))\n",
    "# # print(metrics.classification_report(test_indic, y_predicted))\n",
    "# # print(metrics.classification_report(test_indic, y_predicted))\n",
    "# # print(metrics.classification_report(test_indic, y_predicted))\n"
   ]
  }
 ],
 "metadata": {
  "kernelspec": {
   "display_name": "Python 3",
   "language": "python",
   "name": "python3"
  },
  "language_info": {
   "codemirror_mode": {
    "name": "ipython",
    "version": 3
   },
   "file_extension": ".py",
   "mimetype": "text/x-python",
   "name": "python",
   "nbconvert_exporter": "python",
   "pygments_lexer": "ipython3",
   "version": "3.7.4"
  }
 },
 "nbformat": 4,
 "nbformat_minor": 2
}
