{
 "cells": [
  {
   "cell_type": "code",
   "execution_count": 180,
   "metadata": {},
   "outputs": [],
   "source": [
    "# \"Проверка гипотезы: На выходных (суббота и воскоресенье) обычно падает курс\""
   ]
  },
  {
   "cell_type": "code",
   "execution_count": 181,
   "metadata": {},
   "outputs": [],
   "source": [
    "from get_data import get_polo_data\n",
    "import math\n",
    "import pandas as pd \n",
    "import matplotlib.pyplot as plt\n",
    "import seaborn as sns\n",
    "\n",
    "from sklearn import linear_model\n",
    "from sklearn.cluster import KMeans\n",
    "from sklearn.model_selection import cross_validate\n",
    "from sklearn.model_selection import cross_val_score\n",
    "from sklearn import model_selection\n",
    "from sklearn import metrics \n",
    "from sklearn import svm\n",
    "from pandas import DataFrame\n",
    "from sklearn.neighbors import KNeighborsClassifier\n",
    "from sklearn.ensemble import RandomForestClassifier\n",
    "from sklearn.linear_model import LogisticRegression"
   ]
  },
  {
   "cell_type": "code",
   "execution_count": 182,
   "metadata": {},
   "outputs": [
    {
     "name": "stderr",
     "output_type": "stream",
     "text": [
      "DEBUG:poloniex:Getting 2019-11-24 13:30:00 - 2019-11-24 13:38:14 USDT_BTC candles from Poloniex...\n",
      "DEBUG:poloniex:Updating USDT_BTC database with 2 entrys...\n",
      "100%|███████████████████████████████████████████| 2/2 [00:00<00:00, 111.11it/s]\n",
      "DEBUG:poloniex:Getting USDT_BTC chart data from db\n"
     ]
    },
    {
     "name": "stdout",
     "output_type": "stream",
     "text": [
      "1740\n",
      "0\n"
     ]
    }
   ],
   "source": [
    "# Беру статистику за 2000 дней \n",
    "sd = get_polo_data(pair=\"USDT_BTC\", frame=(2000+1)*60*60*24,zoom='1D')\n",
    "# Скачалось чуть меньше 2000 дней, ну да ладно\n",
    "print(len(sd))\n",
    "print(len(sd)-len(sd.dropna()))"
   ]
  },
  {
   "cell_type": "code",
   "execution_count": 183,
   "metadata": {},
   "outputs": [],
   "source": [
    "# Заполняю столбец. Если курс вырос, то 1. Если нет, то '-1' \n",
    "sd[\"delta\"]=sd[\"close\"]-sd[\"open\"]\n",
    "sd[\"isgrowing\"]=sd['delta'].map(lambda delta: math.copysign(1, delta ))\n",
    "# Заполняю столбец День недели \n",
    "sd['WeekDay'] = sd.index\n",
    "sd['WeekDay'] = sd['WeekDay'].dt.weekday_name\n",
    "sd['WeekDayNmb'] = sd.index\n",
    "sd['WeekDayNmb'] = sd['WeekDayNmb'].dt.weekday"
   ]
  },
  {
   "cell_type": "code",
   "execution_count": 184,
   "metadata": {},
   "outputs": [],
   "source": [
    "# # Это просто построил график. Посмотреть на распределение   \n",
    "# (sd['close']-sd['open']).hist(bins=10)"
   ]
  },
  {
   "cell_type": "code",
   "execution_count": 185,
   "metadata": {
    "scrolled": true
   },
   "outputs": [],
   "source": [
    "# # Это тоже график. Напосмотреть себе\n",
    "# sd['open'].plot(fontsize=14)"
   ]
  },
  {
   "cell_type": "code",
   "execution_count": 186,
   "metadata": {},
   "outputs": [],
   "source": [
    "# # Теперь создаю новый Dataframe. По правилам.А ты как делаешь? \n",
    "# target_features=['isgrowing']\n",
    "# nominal_features=['WeekDay']"
   ]
  },
  {
   "cell_type": "code",
   "execution_count": 187,
   "metadata": {},
   "outputs": [],
   "source": [
    "# data_nom=sd[nominal_features]\n",
    "# data_nom_dum=pd.get_dummies(data_nom)\n",
    "# data_target=sd[target_features]\n",
    "# data_my=pd.concat([data_nom_dum,data_target],axis=1)"
   ]
  },
  {
   "cell_type": "code",
   "execution_count": 188,
   "metadata": {},
   "outputs": [],
   "source": [
    "# # Строю корреляционную  матрицу\n",
    "# sns.set(font_scale=2.5)\n",
    "# plt.figure(figsize=(40,30))\n",
    "# corr_matrix=data_my.corr()\n",
    "# sns.heatmap(corr_matrix,annot=True,fmt = \".2f\",cbar = True,cmap='PuOr',annot_kws={\"size\":14})"
   ]
  },
  {
   "cell_type": "code",
   "execution_count": 189,
   "metadata": {},
   "outputs": [],
   "source": [
    "# # Судя по результатам, никакой связи нет. Везде значения меньше 0.1 \n",
    "# # Но может быть в воскресенье, и то цена не падает, а растет. Вроде так??? \n",
    "# for i in corr_matrix:\n",
    "#     print(i, corr_matrix[i]['isgrowing'])"
   ]
  },
  {
   "cell_type": "code",
   "execution_count": 190,
   "metadata": {},
   "outputs": [],
   "source": [
    "# # Ок. А может изменить гипотезу. Зависит ли разница между открытием и закрытием от дня недели.\n",
    "# # Добавляем в frame  еще один столбец delta \n",
    "# data_my['delta']=sd['delta']"
   ]
  },
  {
   "cell_type": "code",
   "execution_count": 191,
   "metadata": {},
   "outputs": [],
   "source": [
    "# sns.set(font_scale=2.5)\n",
    "# plt.figure(figsize=(40,30))\n",
    "# corr_matrix=data_my.corr()\n",
    "# sns.heatmap(corr_matrix,annot=True,fmt = \".2f\",cbar = True,cmap='PuOr',annot_kws={\"size\":14})"
   ]
  },
  {
   "cell_type": "code",
   "execution_count": 192,
   "metadata": {},
   "outputs": [],
   "source": [
    "# # Похоже что не фига не зависит. Как-то так?  \n",
    "# for i in corr_matrix:\n",
    "#     print(i, corr_matrix[i]['delta'])"
   ]
  },
  {
   "cell_type": "code",
   "execution_count": null,
   "metadata": {},
   "outputs": [],
   "source": []
  },
  {
   "cell_type": "code",
   "execution_count": null,
   "metadata": {},
   "outputs": [],
   "source": []
  },
  {
   "cell_type": "code",
   "execution_count": null,
   "metadata": {},
   "outputs": [],
   "source": []
  },
  {
   "cell_type": "code",
   "execution_count": 193,
   "metadata": {},
   "outputs": [],
   "source": [
    "# ДОБАВИЛ НУЛЕВОЙ СТОЛБЕЦ И УБРАЛ ВСЕ ДНИ КРОМЕ СУББ И ВОСКР\n",
    "sd['empty']=0\n",
    "sd = sd.query(\"WeekDayNmb  in [5,6]\")\n",
    "train=sd[['WeekDayNmb','empty']]\n",
    "target=sd['isgrowing']\n",
    "train_parm, test_parm, train_indic, test_indic = model_selection.train_test_split(\n",
    "    train, target, test_size = 0.3, random_state = 0)"
   ]
  },
  {
   "cell_type": "code",
   "execution_count": 194,
   "metadata": {},
   "outputs": [],
   "source": [
    "model_rfc = RandomForestClassifier(n_estimators = 70) #в параметре передаем кол-во деревьев\n",
    "model_knc = KNeighborsClassifier(n_neighbors = 18) #в параметре передаем кол-во соседей\n",
    "model_lr = LogisticRegression(penalty='l1', tol=0.01) \n",
    "model_svc = svm.SVC()"
   ]
  },
  {
   "cell_type": "code",
   "execution_count": 195,
   "metadata": {},
   "outputs": [],
   "source": [
    "import warnings\n",
    "warnings.filterwarnings(\"ignore\", category=FutureWarning)\n",
    "\n",
    "kfold=5\n",
    "itog_val = {}\n",
    "scores = cross_val_score(model_rfc, train, target, cv = kfold)\n",
    "itog_val['RandomForestClassifier'] = scores.mean()\n",
    "scores = cross_val_score(model_knc, train, target, cv = kfold)\n",
    "itog_val['KNeighborsClassifier'] = scores.mean()\n",
    "scores = cross_val_score(model_lr, train, target, cv = kfold)\n",
    "itog_val['LogisticRegression'] = scores.mean()\n",
    "scores = cross_val_score(model_svc, train, target, cv = kfold)\n",
    "itog_val['SVC'] = scores.mean()"
   ]
  },
  {
   "cell_type": "code",
   "execution_count": 196,
   "metadata": {},
   "outputs": [
    {
     "name": "stdout",
     "output_type": "stream",
     "text": [
      "0.5803265306122449\n",
      "0.42367346938775513\n",
      "0.5803265306122449\n",
      "0.5803265306122449\n"
     ]
    },
    {
     "data": {
      "text/plain": [
       "<matplotlib.axes._subplots.AxesSubplot at 0x3b68a748>"
      ]
     },
     "execution_count": 196,
     "metadata": {},
     "output_type": "execute_result"
    },
    {
     "data": {
      "image/png": "[encoded data removed]",
      "text/plain": [
       "<Figure size 432x288 with 1 Axes>"
      ]
     },
     "metadata": {},
     "output_type": "display_data"
    }
   ],
   "source": [
    "for i in itog_val: \n",
    "    print (itog_val[i])\n",
    "DataFrame.from_dict(data = itog_val, orient='index').plot(kind='bar', legend=False)"
   ]
  },
  {
   "cell_type": "code",
   "execution_count": 197,
   "metadata": {},
   "outputs": [
    {
     "name": "stdout",
     "output_type": "stream",
     "text": [
      "Строк изначально 498\n",
      "Убрал день 249\n"
     ]
    }
   ],
   "source": [
    "# УЖЕ ЛУЧШЕ. А ЧТО ЕСЛИ УБРАТЬ ВОСКРЕСЕНЬЕ. \n",
    "print (\"Строк изначально\",sd['open'].count())\n",
    "sd = sd.query(\"WeekDayNmb  in [5]\")\n",
    "print (\"Убрал день\",sd['open'].count())\n",
    "train=sd[['WeekDayNmb','empty']]\n",
    "target=sd['isgrowing']\n",
    "train_parm, test_parm, train_indic, test_indic = model_selection.train_test_split(\n",
    "    train, target, test_size = 0.3, random_state = 0)"
   ]
  },
  {
   "cell_type": "code",
   "execution_count": 198,
   "metadata": {},
   "outputs": [],
   "source": [
    "model_rfc = RandomForestClassifier(n_estimators = 70) #в параметре передаем кол-во деревьев\n",
    "model_knc = KNeighborsClassifier(n_neighbors = 18) #в параметре передаем кол-во соседей\n",
    "model_lr = LogisticRegression(penalty='l1', tol=0.01) \n",
    "model_svc = svm.SVC()"
   ]
  },
  {
   "cell_type": "code",
   "execution_count": 199,
   "metadata": {},
   "outputs": [],
   "source": [
    "import warnings\n",
    "warnings.filterwarnings(\"ignore\", category=FutureWarning)\n",
    "\n",
    "kfold=5\n",
    "itog_val = {}\n",
    "scores = cross_val_score(model_rfc, train, target, cv = kfold)\n",
    "itog_val['RandomForestClassifier'] = scores.mean()\n",
    "scores = cross_val_score(model_knc, train, target, cv = kfold)\n",
    "itog_val['KNeighborsClassifier'] = scores.mean()\n",
    "scores = cross_val_score(model_lr, train, target, cv = kfold)\n",
    "itog_val['LogisticRegression'] = scores.mean()\n",
    "scores = cross_val_score(model_svc, train, target, cv = kfold)\n",
    "itog_val['SVC'] = scores.mean()\n"
   ]
  },
  {
   "cell_type": "code",
   "execution_count": 204,
   "metadata": {},
   "outputs": [
    {
     "name": "stdout",
     "output_type": "stream",
     "text": [
      "0.6024489795918366\n",
      "0.39755102040816326\n",
      "0.6024489795918366\n",
      "0.6024489795918366\n"
     ]
    },
    {
     "data": {
      "text/plain": [
       "<matplotlib.axes._subplots.AxesSubplot at 0x10887a48>"
      ]
     },
     "execution_count": 204,
     "metadata": {},
     "output_type": "execute_result"
    },
    {
     "data": {
      "image/png": "[encoded data removed]",
      "text/plain": [
       "<Figure size 432x288 with 1 Axes>"
      ]
     },
     "metadata": {},
     "output_type": "display_data"
    }
   ],
   "source": [
    "for i in itog_val: \n",
    "    print (itog_val[i])\n",
    "DataFrame.from_dict(data = itog_val, orient='index').plot(kind='bar', legend=False)"
   ]
  },
  {
   "cell_type": "code",
   "execution_count": null,
   "metadata": {},
   "outputs": [],
   "source": [
    "# Получается что в субботу с вероятностью 0,6 курс будет падать. Как-то так "
   ]
  },
  {
   "cell_type": "code",
   "execution_count": 203,
   "metadata": {},
   "outputs": [],
   "source": [
    "# model_rfc.fit(train_parm, train_indic)\n",
    "# model_lr.fit(train_parm, train_indic) \n",
    "# model_svc.fit(train_parm, train_indic)\n",
    "# model_knc.fit(train_parm, train_indic)\n",
    "\n",
    "\n",
    "# y_predicted = model_rfc.predict(test_parm)\n",
    "# print(metrics.classification_report(test_indic, y_predicted))\n",
    "# y_predicted = model_lr.predict(test_parm)\n",
    "# y_predicted = model_svc.predict(test_parm)\n",
    "# y_predicted = model_knc.predict(test_parm)\n"
   ]
  },
  {
   "cell_type": "code",
   "execution_count": null,
   "metadata": {},
   "outputs": [],
   "source": []
  },
  {
   "cell_type": "code",
   "execution_count": 202,
   "metadata": {},
   "outputs": [],
   "source": [
    "# model_rfc.score(test_parm, test_indic)\n",
    "# # print(metrics.classification_report(test_indic, y_predicted))\n",
    "# # print(metrics.classification_report(test_indic, y_predicted))\n",
    "# # print(metrics.classification_report(test_indic, y_predicted))\n",
    "# # print(metrics.classification_report(test_indic, y_predicted))\n"
   ]
  }
 ],
 "metadata": {
  "kernelspec": {
   "display_name": "Python 3",
   "language": "python",
   "name": "python3"
  },
  "language_info": {
   "codemirror_mode": {
    "name": "ipython",
    "version": 3
   },
   "file_extension": ".py",
   "mimetype": "text/x-python",
   "name": "python",
   "nbconvert_exporter": "python",
   "pygments_lexer": "ipython3",
   "version": "3.7.4"
  }
 },
 "nbformat": 4,
 "nbformat_minor": 2
}
